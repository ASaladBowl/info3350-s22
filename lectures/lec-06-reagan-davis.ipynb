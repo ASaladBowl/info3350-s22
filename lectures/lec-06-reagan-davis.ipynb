{
 "cells": [
  {
   "cell_type": "markdown",
   "metadata": {},
   "source": [
    "# INFO 3350/6350\n",
    "\n",
    "## Lecture 06: Discussion: Reagan et al. and Davis\n",
    "\n",
    "## To do\n",
    "\n",
    "* Readings\n",
    "    * See schedule on GitHub\n",
    "* **Response posts.** See Canvas for schedule and instructions. \n",
    "    * For next week (NetIDs `a*-g*`), Moretti's article (via Canvas)\n",
    "    * The readings themselves are *always* required. Read every week. Respond only as scheduled.\n",
    "* HW2 due Thursday night at 11:59pm\n",
    "* Remember that Ed is the place for questions about any aspect of the course. \n",
    "    * Follow up in office hours as needed.\n",
    "* Other questions or issues?\n",
    "\n",
    "## Intro\n",
    "\n",
    "* Why group these articles?\n",
    "  * They both use basic dictionary methods to produce interesting results.\n",
    "  * Contrast between them helps to illustrate the importance of having an interesting *idea* behind your research task.\n",
    "  * We'll do something (semi)related for the next problem set.\n",
    "\n",
    "### Reagan et al., \"The emotional arcs of stories\"\n",
    "\n",
    "* What is the authors' goal? What are they trying to find or prove?\n",
    "* What is the corpus? Is it appropriate to the task?\n",
    "* Walk me through this schematic of the method ...\n",
    "![](images/lec-06-reagan-figure.png)\n",
    "* How should we evaluate the importance of the \"discovery\" that there are 6 (or 5 or 7) \"universal\" \"emotional arcs\" in \"stories\"? (think about why this question involves so many scare quotes).\n",
    "  * How do you think about the relationship between novelty/outliers and convention/central tendencies? \n",
    "\n",
    "### Erin Davis (and Liana Sposto), \"The Physical Traits that Define Men and Women in Literature\" (for section on Friday)\n",
    "\n",
    "* What is the corpus and what are the methods applied in this study?\n",
    "  * Are both of those elements well justified?\n",
    "* What are the social/readerly effects of the representational differences Davis identifies?\n",
    "* Does the format of the essay work for you? \n",
    "  * Would you like to see more like this (in the field, not just our class)?\n",
    "  * Why do you imagine that there *aren't* more such \"visual essays\" in the professional literature?"
   ]
  },
  {
   "cell_type": "code",
   "execution_count": null,
   "metadata": {},
   "outputs": [],
   "source": []
  }
 ],
 "metadata": {
  "kernelspec": {
   "display_name": "Python 3 (ipykernel)",
   "language": "python",
   "name": "python3"
  },
  "language_info": {
   "codemirror_mode": {
    "name": "ipython",
    "version": 3
   },
   "file_extension": ".py",
   "mimetype": "text/x-python",
   "name": "python",
   "nbconvert_exporter": "python",
   "pygments_lexer": "ipython3",
   "version": "3.10.2"
  }
 },
 "nbformat": 4,
 "nbformat_minor": 4
}
