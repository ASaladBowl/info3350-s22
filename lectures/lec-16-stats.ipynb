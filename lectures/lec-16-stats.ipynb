{
 "cells": [
  {
   "cell_type": "markdown",
   "metadata": {},
   "source": [
    "# INFO 3350/6350\n",
    "\n",
    "## Lecture 16: Statistics, confidence intervals, and hypothesis testing\n",
    "\n",
    "## To do\n",
    "\n",
    "* Mini-project 3 (research report) due Thursday, 11:59pm\n",
    "    * Note [Ed post about the corpus](https://edstem.org/us/courses/19463/discussion/1302770)\n",
    "* Wednesday: Read articles by Underwood and by Yauney\n",
    "    * Respond if it's your week\n",
    "* Friday: Section as usual (HW 6 on statistical methods distributed)\n",
    "* Next week (natural language processing and feature expansion)\n",
    "    * Monday: HDA, ch. 7, plus linked SpaCy docs\n",
    "    * Wednesday: Evans and Wilkens\n",
    "    * No section meeting next week (Friday before break)"
   ]
  },
  {
   "cell_type": "markdown",
   "metadata": {},
   "source": [
    "## Comparing populations (or samples)\n",
    "\n",
    "* We often want to know whether two groups of objects differ from one another.\n",
    "* Examples: British and American novels; speeches by Democratic and Republican presidents; Victorian and Modernist poems, etc.\n",
    "* Trivially, yes, they are different. The groups comprise different objects.\n",
    "* But nontrivially, are there specific properties for which the \"average\" British novel is importantly different from the \"average\" American novel?\n",
    "    * Hypothesis: The average British novel is longer than the average American novel\n",
    "    * Why? Brits are long-winded? British readers are more patient and sophisticated? Industrial conditions favoring longer texts arose earlier in the UK than in the US? Etc, etc, etc.\n",
    "    \n",
    "Note that we might use statistical analysis alongside feature importance measures, for example. When we find a feature that's important to a classifier, we might want to know more about how the two classes use that feature differently.\n",
    "\n",
    "Alternatively, we might know from the start that we're interested in a certain property of our corpus and design an experiment from scratch to examine that feature.\n",
    "\n",
    "## Example: calculate the mean length of a sample of novels from Britain and the US"
   ]
  },
  {
   "cell_type": "code",
   "execution_count": 1,
   "metadata": {},
   "outputs": [
    {
     "data": {
      "text/html": [
       "<div>\n",
       "<style scoped>\n",
       "    .dataframe tbody tr th:only-of-type {\n",
       "        vertical-align: middle;\n",
       "    }\n",
       "\n",
       "    .dataframe tbody tr th {\n",
       "        vertical-align: top;\n",
       "    }\n",
       "\n",
       "    .dataframe thead th {\n",
       "        text-align: right;\n",
       "    }\n",
       "</style>\n",
       "<table border=\"1\" class=\"dataframe\">\n",
       "  <thead>\n",
       "    <tr style=\"text-align: right;\">\n",
       "      <th></th>\n",
       "      <th>nation</th>\n",
       "      <th>length</th>\n",
       "      <th>the</th>\n",
       "    </tr>\n",
       "  </thead>\n",
       "  <tbody>\n",
       "    <tr>\n",
       "      <th>B-Wells-Time_Machine-1895-M</th>\n",
       "      <td>B</td>\n",
       "      <td>32298</td>\n",
       "      <td>6972.567961</td>\n",
       "    </tr>\n",
       "    <tr>\n",
       "      <th>A-Chopin-Awakening-1899-F</th>\n",
       "      <td>A</td>\n",
       "      <td>63951</td>\n",
       "      <td>5402.573846</td>\n",
       "    </tr>\n",
       "    <tr>\n",
       "      <th>A-Howells-Silas_Lapham-1885-M</th>\n",
       "      <td>A</td>\n",
       "      <td>128554</td>\n",
       "      <td>4234.796272</td>\n",
       "    </tr>\n",
       "    <tr>\n",
       "      <th>B-Forster-Room_View-1908-M</th>\n",
       "      <td>B</td>\n",
       "      <td>66421</td>\n",
       "      <td>4611.493353</td>\n",
       "    </tr>\n",
       "    <tr>\n",
       "      <th>A-Stowe-Uncle_Tom-1852-F</th>\n",
       "      <td>A</td>\n",
       "      <td>180604</td>\n",
       "      <td>4203.118425</td>\n",
       "    </tr>\n",
       "  </tbody>\n",
       "</table>\n",
       "</div>"
      ],
      "text/plain": [
       "                              nation  length          the\n",
       "B-Wells-Time_Machine-1895-M        B   32298  6972.567961\n",
       "A-Chopin-Awakening-1899-F          A   63951  5402.573846\n",
       "A-Howells-Silas_Lapham-1885-M      A  128554  4234.796272\n",
       "B-Forster-Room_View-1908-M         B   66421  4611.493353\n",
       "A-Stowe-Uncle_Tom-1852-F           A  180604  4203.118425"
      ]
     },
     "metadata": {},
     "output_type": "display_data"
    },
    {
     "data": {
      "text/html": [
       "<div>\n",
       "<style scoped>\n",
       "    .dataframe tbody tr th:only-of-type {\n",
       "        vertical-align: middle;\n",
       "    }\n",
       "\n",
       "    .dataframe tbody tr th {\n",
       "        vertical-align: top;\n",
       "    }\n",
       "\n",
       "    .dataframe thead th {\n",
       "        text-align: right;\n",
       "    }\n",
       "</style>\n",
       "<table border=\"1\" class=\"dataframe\">\n",
       "  <thead>\n",
       "    <tr style=\"text-align: right;\">\n",
       "      <th></th>\n",
       "      <th>length</th>\n",
       "      <th>the</th>\n",
       "    </tr>\n",
       "  </thead>\n",
       "  <tbody>\n",
       "    <tr>\n",
       "      <th>count</th>\n",
       "      <td>40.000000</td>\n",
       "      <td>40.000000</td>\n",
       "    </tr>\n",
       "    <tr>\n",
       "      <th>mean</th>\n",
       "      <td>131853.025000</td>\n",
       "      <td>5097.709064</td>\n",
       "    </tr>\n",
       "    <tr>\n",
       "      <th>std</th>\n",
       "      <td>91152.476367</td>\n",
       "      <td>1081.367366</td>\n",
       "    </tr>\n",
       "    <tr>\n",
       "      <th>min</th>\n",
       "      <td>14699.000000</td>\n",
       "      <td>3542.254506</td>\n",
       "    </tr>\n",
       "    <tr>\n",
       "      <th>25%</th>\n",
       "      <td>65803.500000</td>\n",
       "      <td>4157.093399</td>\n",
       "    </tr>\n",
       "    <tr>\n",
       "      <th>50%</th>\n",
       "      <td>112958.000000</td>\n",
       "      <td>5094.836289</td>\n",
       "    </tr>\n",
       "    <tr>\n",
       "      <th>75%</th>\n",
       "      <td>182167.750000</td>\n",
       "      <td>5902.225108</td>\n",
       "    </tr>\n",
       "    <tr>\n",
       "      <th>max</th>\n",
       "      <td>352395.000000</td>\n",
       "      <td>7138.810198</td>\n",
       "    </tr>\n",
       "  </tbody>\n",
       "</table>\n",
       "</div>"
      ],
      "text/plain": [
       "              length          the\n",
       "count      40.000000    40.000000\n",
       "mean   131853.025000  5097.709064\n",
       "std     91152.476367  1081.367366\n",
       "min     14699.000000  3542.254506\n",
       "25%     65803.500000  4157.093399\n",
       "50%    112958.000000  5094.836289\n",
       "75%    182167.750000  5902.225108\n",
       "max    352395.000000  7138.810198"
      ]
     },
     "metadata": {},
     "output_type": "display_data"
    }
   ],
   "source": [
    "# Get word count and number of uses of 'the' per 100k words\n",
    "from   glob import glob\n",
    "import matplotlib.pyplot as plt\n",
    "import numpy as np\n",
    "import os\n",
    "import pandas as pd\n",
    "import seaborn as sns\n",
    "import string\n",
    "\n",
    "# Count words in 40 novels\n",
    "files = glob(os.path.join('..','data','texts', '*.txt'))\n",
    "lit_data = {}\n",
    "for file in files:\n",
    "    name = os.path.basename(file).split('.')[0]\n",
    "    nation = name.split('-')[0]\n",
    "    if nation not in ['A','B']:\n",
    "        pass\n",
    "    else:\n",
    "        with open(file, 'r') as f:\n",
    "            words = f.read().lower().split()\n",
    "            length = len(words)\n",
    "            the_rate = np.sum([1 for word in words if word.lower().strip(string.punctuation).strip()=='the'])/length*100000\n",
    "        lit_data[name] = {}\n",
    "        lit_data[name]['nation'] = nation\n",
    "        lit_data[name]['length'] = length\n",
    "        lit_data[name]['the'] = the_rate\n",
    "lit = pd.DataFrame(lit_data).T\n",
    "lit['length'] = lit['length'].astype(int)\n",
    "lit['the'] = lit['the'].astype(float)\n",
    "display(lit.head())\n",
    "display(lit.describe())"
   ]
  },
  {
   "cell_type": "code",
   "execution_count": 2,
   "metadata": {},
   "outputs": [
    {
     "name": "stdout",
     "output_type": "stream",
     "text": [
      "Feature: length\n"
     ]
    },
    {
     "data": {
      "image/png": "[encoded data removed]",
      "text/plain": [
       "<Figure size 864x576 with 1 Axes>"
      ]
     },
     "metadata": {
      "needs_background": "light"
     },
     "output_type": "display_data"
    },
    {
     "data": {
      "image/png": "[encoded data removed]",
      "text/plain": [
       "<Figure size 864x576 with 1 Axes>"
      ]
     },
     "metadata": {
      "needs_background": "light"
     },
     "output_type": "display_data"
    },
    {
     "name": "stdout",
     "output_type": "stream",
     "text": [
      "\n",
      "Feature: the\n"
     ]
    },
    {
     "data": {
      "image/png": "[encoded data removed]",
      "text/plain": [
       "<Figure size 864x576 with 1 Axes>"
      ]
     },
     "metadata": {
      "needs_background": "light"
     },
     "output_type": "display_data"
    },
    {
     "data": {
      "image/png": "[encoded data removed]",
      "text/plain": [
       "<Figure size 864x576 with 1 Axes>"
      ]
     },
     "metadata": {
      "needs_background": "light"
     },
     "output_type": "display_data"
    },
    {
     "name": "stdout",
     "output_type": "stream",
     "text": [
      "\n"
     ]
    }
   ],
   "source": [
    "# Plot length distribution by nation\n",
    "for feature in ['length', 'the']:\n",
    "    print(\"Feature:\", feature)\n",
    "    df = lit.pivot(columns='nation', values=feature)\n",
    "    df.plot.hist(figsize=(12,8), alpha=0.5)\n",
    "    df.plot.density(figsize=(12,8))\n",
    "    plt.show()\n",
    "    print()"
   ]
  },
  {
   "cell_type": "code",
   "execution_count": 3,
   "metadata": {},
   "outputs": [
    {
     "name": "stdout",
     "output_type": "stream",
     "text": [
      "Mean values\n"
     ]
    },
    {
     "data": {
      "text/html": [
       "<div>\n",
       "<style scoped>\n",
       "    .dataframe tbody tr th:only-of-type {\n",
       "        vertical-align: middle;\n",
       "    }\n",
       "\n",
       "    .dataframe tbody tr th {\n",
       "        vertical-align: top;\n",
       "    }\n",
       "\n",
       "    .dataframe thead th {\n",
       "        text-align: right;\n",
       "    }\n",
       "</style>\n",
       "<table border=\"1\" class=\"dataframe\">\n",
       "  <thead>\n",
       "    <tr style=\"text-align: right;\">\n",
       "      <th></th>\n",
       "      <th>length</th>\n",
       "      <th>the</th>\n",
       "    </tr>\n",
       "    <tr>\n",
       "      <th>nation</th>\n",
       "      <th></th>\n",
       "      <th></th>\n",
       "    </tr>\n",
       "  </thead>\n",
       "  <tbody>\n",
       "    <tr>\n",
       "      <th>A</th>\n",
       "      <td>101755.0</td>\n",
       "      <td>5186.6</td>\n",
       "    </tr>\n",
       "    <tr>\n",
       "      <th>B</th>\n",
       "      <td>161951.1</td>\n",
       "      <td>5008.8</td>\n",
       "    </tr>\n",
       "  </tbody>\n",
       "</table>\n",
       "</div>"
      ],
      "text/plain": [
       "          length     the\n",
       "nation                  \n",
       "A       101755.0  5186.6\n",
       "B       161951.1  5008.8"
      ]
     },
     "metadata": {},
     "output_type": "display_data"
    }
   ],
   "source": [
    "# Sample means\n",
    "g = lit.groupby(['nation'])\n",
    "print(\"Mean values\")\n",
    "display(g.mean().round(1))"
   ]
  },
  {
   "cell_type": "markdown",
   "metadata": {},
   "source": [
    "## So, British novels are longer, right?\n",
    "\n",
    "In these two small samples, yes. But now we have two questions:\n",
    "\n",
    "1. How **confident** should we be in this result?\n",
    "1. Is the observed difference **important**?\n",
    "\n",
    "First question first: Should we be confident that the observed difference is \"real,\" that is, that it reflects a true difference in the means of the underlying populations, rather than an artifact of the samples we've chosen?\n",
    "\n",
    "We could put this another way, involving a **null hypothesis**: If we assume that there is *no difference* in the length of British and American novels, what is the probability that we would nevertheless have observed a difference in their mean lengths that was as large or larger than the one we did see, simply due to random sampling? Like, maybe we just happened to pick all the long British novels and the short American ones?\n",
    "\n",
    "**Intuition:** We should have more confidence in our results if:\n",
    "\n",
    "* Our samples are large\n",
    "* The differences *between* the samples are large\n",
    "* The differences *within* each sample are small\n",
    "\n",
    "A synthetic illustration:"
   ]
  },
  {
   "cell_type": "code",
   "execution_count": 4,
   "metadata": {},
   "outputs": [
    {
     "data": {
      "image/png": "[encoded data removed]",
      "text/plain": [
       "<Figure size 576x576 with 2 Axes>"
      ]
     },
     "metadata": {
      "needs_background": "light"
     },
     "output_type": "display_data"
    }
   ],
   "source": [
    "from scipy import stats\n",
    "\n",
    "x1 = np.linspace(-5,1,100)\n",
    "x2 = np.linspace(-1,5,100)\n",
    "y1 = stats.norm.pdf(x1, -2, 1)\n",
    "y2 = stats.norm.pdf(x2, 2, 1)\n",
    "\n",
    "x3 = np.linspace(-3.1,2.9,100)\n",
    "x4 = np.linspace(-2.9,3.1,100)\n",
    "y3 = stats.norm.pdf(x3, -0.1, 1)\n",
    "y4 = stats.norm.pdf(x4, 0.1, 1)\n",
    "\n",
    "fig, ax = plt.subplots(2, figsize=(8,8))\n",
    "ax[0].plot(x1, y1)\n",
    "ax[0].plot(x2, y2)\n",
    "ax[0].annotate('', xy=(-2, 0.4), xytext=(2, 0.4),\n",
    "               arrowprops=dict(arrowstyle='<|-|>', color='green', lw=2)\n",
    "              )\n",
    "ax[0].annotate('', xy=(-3.2, 0.2), xytext=(-0.8, 0.2),\n",
    "               arrowprops=dict(arrowstyle='<|-|>', color='purple', lw=2)\n",
    "              )\n",
    "ax[0].annotate('', xy=(0.8, 0.2), xytext=(3.2, 0.2),\n",
    "               arrowprops=dict(arrowstyle='<|-|>', color='purple', lw=2)\n",
    "              )\n",
    "\n",
    "ax[1].plot(x3, y3)\n",
    "ax[1].plot(x4, y4)\n",
    "ax[1].annotate('', xy=(-0.2, 0.4), xytext=(0.2, 0.4),\n",
    "               arrowprops=dict(arrowstyle='<|-|>', color='green', lw=2)\n",
    "              )\n",
    "ax[1].annotate('', xy=(-1.3, 0.2), xytext=(1.1, 0.2),\n",
    "               arrowprops=dict(arrowstyle='<|-|>', color='purple', lw=2)\n",
    "              )\n",
    "ax[1].annotate('', xy=(-1.15, 0.2), xytext=(1.35, 0.2),\n",
    "               arrowprops=dict(arrowstyle='<|-|>', color='purple', lw=2)\n",
    "              )\n",
    "\n",
    "plt.show()"
   ]
  },
  {
   "cell_type": "markdown",
   "metadata": {},
   "source": [
    "Compare the distance between peaks to the width of each peak. If the distance between the peaks is much larger than the width of each peak, the observed difference between samples is likely to be real. If not, it's not.\n",
    "\n",
    "How do these values look in our example case? Recall that we saw the distribution plots above. Here are the numbers:"
   ]
  },
  {
   "cell_type": "code",
   "execution_count": 5,
   "metadata": {},
   "outputs": [
    {
     "name": "stdout",
     "output_type": "stream",
     "text": [
      "Mean values\n"
     ]
    },
    {
     "data": {
      "text/html": [
       "<div>\n",
       "<style scoped>\n",
       "    .dataframe tbody tr th:only-of-type {\n",
       "        vertical-align: middle;\n",
       "    }\n",
       "\n",
       "    .dataframe tbody tr th {\n",
       "        vertical-align: top;\n",
       "    }\n",
       "\n",
       "    .dataframe thead th {\n",
       "        text-align: right;\n",
       "    }\n",
       "</style>\n",
       "<table border=\"1\" class=\"dataframe\">\n",
       "  <thead>\n",
       "    <tr style=\"text-align: right;\">\n",
       "      <th></th>\n",
       "      <th>length</th>\n",
       "      <th>the</th>\n",
       "    </tr>\n",
       "    <tr>\n",
       "      <th>nation</th>\n",
       "      <th></th>\n",
       "      <th></th>\n",
       "    </tr>\n",
       "  </thead>\n",
       "  <tbody>\n",
       "    <tr>\n",
       "      <th>A</th>\n",
       "      <td>101755.0</td>\n",
       "      <td>5186.6</td>\n",
       "    </tr>\n",
       "    <tr>\n",
       "      <th>B</th>\n",
       "      <td>161951.1</td>\n",
       "      <td>5008.8</td>\n",
       "    </tr>\n",
       "  </tbody>\n",
       "</table>\n",
       "</div>"
      ],
      "text/plain": [
       "          length     the\n",
       "nation                  \n",
       "A       101755.0  5186.6\n",
       "B       161951.1  5008.8"
      ]
     },
     "metadata": {},
     "output_type": "display_data"
    },
    {
     "name": "stdout",
     "output_type": "stream",
     "text": [
      "Standard deviations\n"
     ]
    },
    {
     "data": {
      "text/html": [
       "<div>\n",
       "<style scoped>\n",
       "    .dataframe tbody tr th:only-of-type {\n",
       "        vertical-align: middle;\n",
       "    }\n",
       "\n",
       "    .dataframe tbody tr th {\n",
       "        vertical-align: top;\n",
       "    }\n",
       "\n",
       "    .dataframe thead th {\n",
       "        text-align: right;\n",
       "    }\n",
       "</style>\n",
       "<table border=\"1\" class=\"dataframe\">\n",
       "  <thead>\n",
       "    <tr style=\"text-align: right;\">\n",
       "      <th></th>\n",
       "      <th>length</th>\n",
       "      <th>the</th>\n",
       "    </tr>\n",
       "    <tr>\n",
       "      <th>nation</th>\n",
       "      <th></th>\n",
       "      <th></th>\n",
       "    </tr>\n",
       "  </thead>\n",
       "  <tbody>\n",
       "    <tr>\n",
       "      <th>A</th>\n",
       "      <td>60124.2</td>\n",
       "      <td>1025.4</td>\n",
       "    </tr>\n",
       "    <tr>\n",
       "      <th>B</th>\n",
       "      <td>107390.8</td>\n",
       "      <td>1154.2</td>\n",
       "    </tr>\n",
       "  </tbody>\n",
       "</table>\n",
       "</div>"
      ],
      "text/plain": [
       "          length     the\n",
       "nation                  \n",
       "A        60124.2  1025.4\n",
       "B       107390.8  1154.2"
      ]
     },
     "metadata": {},
     "output_type": "display_data"
    }
   ],
   "source": [
    "# Sample standard deviations\n",
    "print(\"Mean values\")\n",
    "display(g.mean().round(1))\n",
    "print(\"Standard deviations\")\n",
    "display(g.std().round(1))"
   ]
  },
  {
   "cell_type": "markdown",
   "metadata": {},
   "source": [
    "## How do we think systematically about these differences?\n",
    "\n",
    "* Recall that, for normally distributed data, the standard deviation tells you what fraction of measurements are within a given distance from the mean\n",
    "    * About 68% of points are within 1 stadard deviation ($\\sigma$) of the mean; 95% within 2$\\sigma$, 99.7% within 3$\\sigma$\n",
    "* Think of our current problem as one in which we want to know: how many standard deviations apart are the sample means?\n",
    "    * If the means are more than about 2 (pooled) standard deviations apart, there's only about a 5% chance that so large a difference would arise by chance where it doesn't actually exist in the underlying populations\n",
    "* This is the basis of **Student's *t*-test**\n",
    "    * One of the oldest statistical hypothesis tests, first published in 1908\n",
    "* We'll wave our hands about the details, especially re: pooled standard deviations, unequal variances, and unequal sample sizes\n",
    "    * Note in the code below that we set `equal_var=False`, which performs a version of the *t*-test known as *Welch's t-test*, which relaxes some of the assumptions made in Student's original version"
   ]
  },
  {
   "cell_type": "code",
   "execution_count": 6,
   "metadata": {},
   "outputs": [
    {
     "name": "stdout",
     "output_type": "stream",
     "text": [
      "\n",
      "length:\n",
      "t-statistic: -2.187309685017715\n",
      "p-value:     0.03669145107609096\n",
      "\n",
      "the:\n",
      "t-statistic: 0.5150196062184773\n",
      "p-value:     0.6095636121443834\n"
     ]
    }
   ],
   "source": [
    "# Run t-tests for length and 'the'-ness btw. Brit and Amer novels\n",
    "for col in ['length', 'the']:\n",
    "    print(f'\\n{col}:')\n",
    "    result = stats.ttest_ind(\n",
    "        lit.loc[lit.nation=='A'][col], \n",
    "        lit.loc[lit.nation=='B'][col],\n",
    "        equal_var=False\n",
    "    )\n",
    "    print('t-statistic:', result[0])\n",
    "    print('p-value:    ', result[1])"
   ]
  },
  {
   "cell_type": "markdown",
   "metadata": {},
   "source": [
    "## *p*-values\n",
    "\n",
    "* A *p*-value is the probability that a result as large or larger than the observed result would have occured due to chance, given the observed distribution of the measurements (or the known characteristics of the source population(s))\n",
    "* Smaller values of *p* indicate a more significant (in the statistical sense) result\n",
    "* There is no *correct* value of *p* at which we should accept a result as \"real\" (that is, reject the null hypothesis)\n",
    "* But there *is* a trade-off between false positives and false negatives\n",
    "    * Set *p* too high (at 0.5 = 50%, say) and we get more false positives: we accept that two samples are \"really\" distinct when there's a 50% chance that the observed difference between them was due to random sampling\n",
    "    * Set *p* too low (maybe at 0.001) and we get more false negatives: cases where there *is* a real difference between the classes, but we fail to acknowledge it because there is more than a 1-in-1000 chance that is was down to luck\n",
    "    * Many studies set *p* = 0.05 as their significance threshold\n",
    "    * But know that *nothing special happens at this level*. \n",
    "        * If you find *p* = 0.49, the difference you've found is only (very) slightly less likely to be a sampling error than a result with *p* = 0.50. \n",
    "        * Likewise, *p* = 0.50 doesn't mean that there's nothing to see in your result\n",
    "        * A well-designed study considers the risks associated with false positives *and* false negatives and sets its *p* threshold accordingly\n",
    "        * Better still, a careful investigator knows that a single *p*-value is just one piece of evidence in support of a hypothesis\n",
    "* Note that linguistic data -- especially word counts -- are often *very* unevenly distributed across documents. It's not hard to find statistical significance in those sorts of features. Be careful!\n",
    "    * And we haven't even touched multiple comparisons ...\n",
    "    \n",
    "![](https://imgs.xkcd.com/comics/significant.png)\n",
    "\n",
    "Source: [xkcd](https://xkcd.com/882/)\n",
    "        \n",
    "Now, consider the *p*-values calculated above. Do they make sense, given what we know about the underlying distributions?\n",
    "* **Yes**. Scroll back to examine the distribution plots, standard deviations, and *p*-values."
   ]
  },
  {
   "cell_type": "markdown",
   "metadata": {},
   "source": [
    "## Confidence intervals\n",
    "\n",
    "* Sometimes we don't want or need to test a hypothesis, but we do want to take sampling effects (and random variation) into account\n",
    "* Now the question is: given that I measured a mean value of *x*, what are some reasonable bounds for how much my measurement might vary if I were to take it again on a different sample drawn from the same population.\n",
    "* You see something like this all the time in political polls, for example\n",
    "    * The pollsters surveyed, say, 1,000 registered voters (out of more than 150,000,000 total in the US)\n",
    "    * They know that the 1,000 people they ask might have different characteristics from the other 150M+ with whom they did not speak (even though they try hard to balance these things!)\n",
    "    * So they estimate a \"margin of error\" or a \"confidence interval\" that indicates the range of values they would expect to find if they were to resample the population many times\n",
    "    * A margin of error of 3% means that most samples would produce a result within 3 percentage points higher *or lower* than the existing result (51% +/- 3%)\n",
    "    * Confidence intervals are generally reported as the actual low and high values that one would expect to find (48% to 54%)\n",
    "* The confidence interval can be reported at different levels of confidence. Similar to *p* values, a 95% interval is customary.\n",
    "* A confidence interval represents the range of output estimates that are not significantly different from the measured value at the *p* < *x* level.\n",
    "\n",
    "How do you calculate a confidence interval for a set of sample results? Like so:\n",
    "\n",
    "$$margin = t \\times \\frac{\\sigma}{\\sqrt(n)}$$\n",
    "\n",
    "where $n$ is the sample size, $\\sigma$ is the observed standard deviation, and *t* is the so-called *critical value*. For large samples, *t* is essentially the number of standard deviations from the mean necessary to reach the desired confidence level (typically about 2 for a 95% interval). For smaller samples, *t* is (a bit) larger. In any case, you can find it from a table of critical values for the *t*-distribution or via `scipy`'s `stats.t.ppf` function. Note that you need to supply the *degrees of freedom* (df) to find the critical value. Here, `df = n - 1`. (Note that the *t* distribution looks like a normal distribution for large samples, but is shorter and wider than normal for smaller samples.)\n",
    "\n",
    "We can then calculate the actual confidence interval as the observed mean +/- the calculated margin."
   ]
  },
  {
   "cell_type": "code",
   "execution_count": 7,
   "metadata": {},
   "outputs": [
    {
     "name": "stdout",
     "output_type": "stream",
     "text": [
      "'the' count per 100,000 words in British novels: 5008.810022058136 +/- 540.1889837634787\n",
      "95% confidence interval: (4468.621038294657, 5548.999005821615)\n"
     ]
    }
   ],
   "source": [
    "# 95% CI for 'the'-level in Brit novels\n",
    "# Calculate by hand\n",
    "\n",
    "brit = lit.loc[lit.nation=='B']    # Select the Brit data\n",
    "n = brit.the.count()               # Count data points\n",
    "t = stats.t.ppf(q = 0.975, df=n-1) # Get critical value\n",
    "sigma = brit.the.std()       # Calculate sample standard deviation\n",
    "\n",
    "margin = t * sigma / np.sqrt(n)\n",
    "mu = brit.the.mean() # Mean value\n",
    "low = mu-margin\n",
    "high = mu+margin\n",
    "\n",
    "print(\"'the' count per 100,000 words in British novels:\", mu, '+/-', margin)\n",
    "print(f\"95% confidence interval: ({mu-margin}, {mu+margin})\")"
   ]
  },
  {
   "cell_type": "code",
   "execution_count": 8,
   "metadata": {},
   "outputs": [
    {
     "name": "stdout",
     "output_type": "stream",
     "text": [
      "95% confidence interval ('the'): (4468.621038294657, 5548.999005821615)\n"
     ]
    }
   ],
   "source": [
    "# Calculate CI using scipy\n",
    "interval = stats.t.interval(\n",
    "    alpha = 0.95,\n",
    "    df= n-1,\n",
    "    loc = mu,\n",
    "    scale = sigma/np.sqrt(n)\n",
    ")\n",
    "print(\"95% confidence interval ('the'):\", interval)"
   ]
  },
  {
   "cell_type": "code",
   "execution_count": 9,
   "metadata": {},
   "outputs": [
    {
     "name": "stdout",
     "output_type": "stream",
     "text": [
      "95% confidence interval ('length'): (111690.66340148507, 212211.53659851494)\n"
     ]
    }
   ],
   "source": [
    "# 0.95 CI for Brit novel *length*\n",
    "interval = stats.t.interval(\n",
    "    alpha = 0.95,\n",
    "    df= n-1,\n",
    "    loc = brit.length.mean(),\n",
    "    scale = brit.length.std()/np.sqrt(n)\n",
    ")\n",
    "print(\"95% confidence interval ('length'):\", interval)"
   ]
  },
  {
   "cell_type": "code",
   "execution_count": 10,
   "metadata": {},
   "outputs": [
    {
     "name": "stdout",
     "output_type": "stream",
     "text": [
      "(111690.66340148507, 212211.53659851494)\n"
     ]
    },
    {
     "data": {
      "text/plain": [
       "True"
      ]
     },
     "execution_count": 10,
     "metadata": {},
     "output_type": "execute_result"
    }
   ],
   "source": [
    "# Using statsmodels\n",
    "import statsmodels.stats.api as sms\n",
    "\n",
    "sms_interval = sms.DescrStatsW(brit.length).tconfint_mean()\n",
    "\n",
    "print(sms_interval)\n",
    "sms_interval == interval"
   ]
  },
  {
   "cell_type": "markdown",
   "metadata": {},
   "source": [
    "## Bootstrapping\n",
    "\n",
    "* Mathematical/analytical confidence intervals depend on data that is relatively normal\n",
    "    * But many data sets are not normally distributed\n",
    "* If you have a computer, you could just run the experiment a bunch of times and observe the *empirical* spread of the results\n",
    "* This approach is called the **bootstrap method**\n",
    "* Bootstrapping uses resampling *with replacement*\n",
    "    * Draw from your existing objects\n",
    "    * Replace the drawn object with another copy of itself\n",
    "    * Repeat until you've produced a sample of the same size as the original experiment\n",
    "        * Some objects will be present multiple times in the new sample (due to replacement)\n",
    "        * Some objects won't be present at all\n",
    "    * Repeat many times (1,000+ is typical)\n",
    "    * Observe the median result (approximates the true mean) and the results at the 2.5% and 97.5% levels (lower and upper bounds of the 95% confidence interval)\n",
    "* No need to assume normality or other statistical regularities"
   ]
  },
  {
   "cell_type": "code",
   "execution_count": 11,
   "metadata": {},
   "outputs": [],
   "source": [
    "# Bootstrap 'the' counts in Brit novels\n",
    "import random\n",
    "bootstrapped_means = []\n",
    "trials = 1000\n",
    "k = brit.the.count() # Number of objects per sample\n",
    "for i in range(trials):\n",
    "    bootstrapped_means.append(np.mean(random.choices(brit.the, k=k)))"
   ]
  },
  {
   "cell_type": "code",
   "execution_count": 12,
   "metadata": {},
   "outputs": [
    {
     "data": {
      "text/plain": [
       "1000"
      ]
     },
     "execution_count": 12,
     "metadata": {},
     "output_type": "execute_result"
    }
   ],
   "source": [
    "# How many bootstrapped results?\n",
    "len(bootstrapped_means)"
   ]
  },
  {
   "cell_type": "code",
   "execution_count": 13,
   "metadata": {},
   "outputs": [
    {
     "data": {
      "text/plain": [
       "[4704.684999414436,\n",
       " 4746.570353115486,\n",
       " 4974.999891663817,\n",
       " 5133.606744184084,\n",
       " 4814.03679708122]"
      ]
     },
     "execution_count": 13,
     "metadata": {},
     "output_type": "execute_result"
    }
   ],
   "source": [
    "# Examine a few sample means\n",
    "bootstrapped_means[:5]"
   ]
  },
  {
   "cell_type": "code",
   "execution_count": 14,
   "metadata": {},
   "outputs": [],
   "source": [
    "# Sort results\n",
    "result = sorted(bootstrapped_means)"
   ]
  },
  {
   "cell_type": "code",
   "execution_count": 15,
   "metadata": {},
   "outputs": [
    {
     "name": "stdout",
     "output_type": "stream",
     "text": [
      "Mean: 4986.603539377298\n",
      "95% CI: 4545.39765876001 5480.58667282353\n"
     ]
    }
   ],
   "source": [
    "# Find mean and CI by inspection of bootstrap results\n",
    "low = result[int(trials*0.025)]  # 2.5%\n",
    "high = result[int(trials*0.975)] # 97.5%\n",
    "print(\"Mean:\", result[int(trials/2)]) # median\n",
    "print(\"95% CI:\", low, high)"
   ]
  },
  {
   "cell_type": "code",
   "execution_count": 16,
   "metadata": {},
   "outputs": [
    {
     "name": "stdout",
     "output_type": "stream",
     "text": [
      "'the' count per 100,000 words in British novels: 5008.810022058136 +/- 540.1889837634787\n",
      "95% confidence interval: (4468.621038294657, 5548.999005821615)\n"
     ]
    }
   ],
   "source": [
    "# compare analytical mean and CI\n",
    "print(\"'the' count per 100,000 words in British novels:\", mu, '+/-', margin)\n",
    "print(f\"95% confidence interval: ({mu-margin}, {mu+margin})\")"
   ]
  },
  {
   "cell_type": "markdown",
   "metadata": {},
   "source": [
    "## Importance and effect sizes\n",
    "\n",
    "At the outset, we asked two questions:\n",
    "\n",
    "1. Are we confident that the difference we observe between samples is *real*?\n",
    "1. Is the observed difference *important*?\n",
    "\n",
    "In colloquial use, both of these questions might use the word 'significant.' But we'll try to reserve that term for the first question (*statistical* significance) and use other words like 'importance' for the second question.\n",
    "\n",
    "So far, we've been examining question one. What about question two (importance)?\n",
    "\n",
    "* Importance is harder to quantify than is statistical significance, because *importance* is  contextual and interpretive\n",
    "* It's very possible for a result to be statistically significant but unimportant\n",
    "    * Imagine that every American author used the word 'the' exactly 5,000 times per 100,000 words and every Brit used it exactly 5,001 times per 100k\n",
    "    * This result would be *significant*, but it's hard to see how it would be *important*\n",
    "* Likewise, large differences in small, noisy samples might be *important* for certain purposes, even if we're not super confident about their statistical significance\n",
    "    * Consider a case where false negatives are very costly, but false positives are cheap\n",
    "    * Maybe a drug that's easy to make, has few side effects, and might prevent a terrible disease\n",
    "    * You might administer the drug if it showed signs of effectiveness, even if the evidence didn't rise to the level of significance\n",
    "\n",
    "We can think about **importance** by considering the **size of the observed effect**. Two common approaches to assessing effect size:\n",
    "\n",
    "* For continuous data (linear fits, etc.), examine the correlation coefficient, *r*\n",
    "    * By convention, *r* = 0.10 is a small effect, *r* = 0.30 is a medium effect, *r* = 0.50 is a large effect\n",
    "    \n",
    "![](https://upload.wikimedia.org/wikipedia/commons/d/d4/Correlation_examples2.svg)\n",
    "\n",
    "[source](https://en.wikipedia.org/wiki/Pearson_correlation_coefficient)\n",
    "\n",
    "* For categorical cases (like the examples we've been using here), calculate *Cohen's d* as the difference in means divided by the pooled standard deviation:\n",
    "\n",
    "$$d = \\frac{\\mu_1 - \\mu_2}{SD_{pooled}}$$\n",
    "\n",
    "* Again by convention, *d* = 0.20 is considered a small effect, 0.50 a medium effect, and 0.80 a large effect.\n",
    "* Like the 5% significance level or 95% confidence interval, there's nothing special about these numbers. They are conventions."
   ]
  },
  {
   "cell_type": "code",
   "execution_count": 17,
   "metadata": {},
   "outputs": [],
   "source": [
    "# Calculate effect size (Cohen's d) in novel data\n",
    "def cohend(d1, d2):\n",
    "    pooled_std = np.sqrt(\n",
    "        (len(d1)-1) * np.std(d1)**2 + (len(d2)-1) * np.std(d2)**2 / (len(d1) + len(d2) - 2)\n",
    "    )\n",
    "    return (np.mean(d1)-np.mean(d2))/pooled_std"
   ]
  },
  {
   "cell_type": "code",
   "execution_count": 18,
   "metadata": {},
   "outputs": [
    {
     "data": {
      "text/plain": [
       "0.040149542134177686"
      ]
     },
     "execution_count": 18,
     "metadata": {},
     "output_type": "execute_result"
    }
   ],
   "source": [
    "# 'the' rate effect size\n",
    "amer = lit.loc[lit.nation=='A'] # select American data (Brit selected previously)\n",
    "cohend(amer.the, brit.the)"
   ]
  },
  {
   "cell_type": "code",
   "execution_count": 19,
   "metadata": {},
   "outputs": [
    {
     "data": {
      "text/plain": [
       "-0.2263469691059019"
      ]
     },
     "execution_count": 19,
     "metadata": {},
     "output_type": "execute_result"
    }
   ],
   "source": [
    "# length effect size\n",
    "cohend(amer.length, brit.length)"
   ]
  },
  {
   "cell_type": "markdown",
   "metadata": {},
   "source": [
    "So, the effect size for 'the' is very small; for length, it's pretty small, but not tiny.\n",
    "\n",
    "Note that the sign indicates the direction of the difference (which sample has the larger mean), but is otherwise irrelevant to the analysis of effect size."
   ]
  },
  {
   "cell_type": "code",
   "execution_count": null,
   "metadata": {},
   "outputs": [],
   "source": []
  }
 ],
 "metadata": {
  "kernelspec": {
   "display_name": "Python 3 (ipykernel)",
   "language": "python",
   "name": "python3"
  },
  "language_info": {
   "codemirror_mode": {
    "name": "ipython",
    "version": 3
   },
   "file_extension": ".py",
   "mimetype": "text/x-python",
   "name": "python",
   "nbconvert_exporter": "python",
   "pygments_lexer": "ipython3",
   "version": "3.10.2"
  }
 },
 "nbformat": 4,
 "nbformat_minor": 4
}
