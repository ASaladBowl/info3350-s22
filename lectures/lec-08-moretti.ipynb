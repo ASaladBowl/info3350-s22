{
 "cells": [
  {
   "cell_type": "markdown",
   "metadata": {},
   "source": [
    "# INFO 3350/6350\n",
    "\n",
    "## Lecture 08: Discussion: Moretti"
   ]
  },
  {
   "cell_type": "markdown",
   "metadata": {},
   "source": [
    "## Background\n",
    "\n",
    "1. Franco Moretti is an important figure in the evolution of literary studies and the adoption of quantitative methods.\n",
    "1. Seeks to understand relationship between the books we have read for many years (the canon) and those that have been (or will be) forgotten (the great unread)\n",
    "    1. |Unread| >> |canon|\n",
    "1. Takes inspiration from the *Annales* school of historiography\n",
    "    1. Lucien Febvre, Marc Bloch, Fernand Braudel\n",
    "    1. Favors history of the *longue durée* (centuries) rather than of punctual events (days, years)\n",
    "1. So, Moretti wants to know how the whole literary system evolves over generations across languages and nations\n",
    "1. Proposes \"distant reading\" (vs. \"close reading\") as a collection of methods by which to conduct such literary history\n",
    "\n",
    "## Today's question\n",
    "\n",
    "1. Moretti says \"devices\" and \"genres\" are the real objects of literary study (that is, not books). \n",
    "    1. What's an example of a device or a genre?\n",
    "    1. How are devices and genres different from books?\n",
    "    1. Why *isn't* the book the object of literary knowledge?\n",
    "\n",
    "## Questions for Friday ...\n",
    "\n",
    "1. What is a **canon** in literary studies?\n",
    "1. What kind of work and analysis does Moretti have in mind when he speaks of **classical or canon-based literary criticism**? What does this criticism look like?\n",
    "1. According to Moretti, **what makes readers like or dislike a book**? Do you agree?\n",
    "1. **Has Moretti chosen his example (the detective story) \"innocently\"?** In other words, are detective novels as good as any other genre for evaluating his hypothesis about the importance of form?\n",
    "1. Moretti suggests that writers act, collectively, like an **evolving species**, with the marketplace providing selection pressure. How far are you willing to go with this metaphor?\n",
    "1. Moretti says that ***texts* are not the real objects of literary-historical knowledge**. Why not, and what takes their place?\n",
    "1. Moretti emphasizes the so-called ***longue durée* of literary history**, its slow evolution. Is this emphasis reconcilable with the essay's focus on one principle writer (Conan Doyle) at one moment in history (late 19th century)? Why or why not?\n",
    "1. Does Moretti's emphasis on form foreclose interest in (and attentiveness to) issues of **identity and exclusion**? In other words, do Moretti's methods stand in the way of understanding how some writers and stories are excluded from readership?\n",
    "1. **Do we know enough** to even do this work (is it like a language we don't know)?"
   ]
  },
  {
   "cell_type": "code",
   "execution_count": null,
   "metadata": {},
   "outputs": [],
   "source": []
  }
 ],
 "metadata": {
  "kernelspec": {
   "display_name": "Python 3 (ipykernel)",
   "language": "python",
   "name": "python3"
  },
  "language_info": {
   "codemirror_mode": {
    "name": "ipython",
    "version": 3
   },
   "file_extension": ".py",
   "mimetype": "text/x-python",
   "name": "python",
   "nbconvert_exporter": "python",
   "pygments_lexer": "ipython3",
   "version": "3.10.2"
  }
 },
 "nbformat": 4,
 "nbformat_minor": 4
}
