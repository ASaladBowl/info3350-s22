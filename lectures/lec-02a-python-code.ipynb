{
 "cells": [
  {
   "cell_type": "markdown",
   "metadata": {
    "id": "0uTm1oCtkUch"
   },
   "source": [
    "# INFO 3350/6350\n",
    "\n",
    "## Lecture 02(a): Python refresher\n",
    "\n",
    "## To do:\n",
    "\n",
    "* Section on Friday (required)\n",
    "  * Introductions, setup, and HW 01\n",
    "* Readings for next week (see schedule on GitHub). Expect to spend several hours on these every week.\n",
    "* Remaining from lecture 01:\n",
    "  * Introductions\n",
    "  * How to ask good questions, and where to ask them\n",
    "\n",
    "## The Jupyter notebook system\n",
    "\n",
    "First, activate your virtual environment, then start `jupyter lab`. *In Jupyter Lab*, open the notebook(s) you want.\n",
    "\n",
    "![Jupyter system schematic](https://docs.jupyter.org/en/latest/_images/notebook_components.png)\n",
    "\n",
    "[Source](https://docs.jupyter.org/en/latest/projects/architecture/content-architecture.html)\n",
    "\n",
    "## Environments and data types\n",
    "\n",
    "Underlying every computer program is an *environment*, which maps variable names to values.\n",
    "\n",
    "This environment starts out empty. We can add to it by defining a variable."
   ]
  },
  {
   "cell_type": "code",
   "execution_count": null,
   "metadata": {
    "id": "a0SjFsHDkUcj"
   },
   "outputs": [],
   "source": [
    "x = 3"
   ]
  },
  {
   "cell_type": "markdown",
   "metadata": {
    "id": "lL7TrmLEkUck"
   },
   "source": [
    "## Magics\n",
    "\n",
    "Magics are special commands that work **in notebooks**, but **not Python in general**. Magics always start with `%`.\n",
    "\n",
    "What's defined in our environment?"
   ]
  },
  {
   "cell_type": "code",
   "execution_count": null,
   "metadata": {
    "id": "65xBpa1zkUck"
   },
   "outputs": [],
   "source": [
    "# list variable names\n",
    "%who"
   ]
  },
  {
   "cell_type": "code",
   "execution_count": null,
   "metadata": {
    "id": "gTF3SBUakUck"
   },
   "outputs": [],
   "source": [
    "# list variable names/types/values\n",
    "%whos"
   ]
  },
  {
   "cell_type": "markdown",
   "metadata": {
    "id": "hVM--zt8kUcl"
   },
   "source": [
    "FYI, in pure Python, you'd use `dir()` or `locals()` ..."
   ]
  },
  {
   "cell_type": "code",
   "execution_count": null,
   "metadata": {},
   "outputs": [],
   "source": [
    "locals()"
   ]
  },
  {
   "cell_type": "markdown",
   "metadata": {
    "id": "hVM--zt8kUcl"
   },
   "source": [
    "A single percent sign runs the magic on a single line. Double percents (`%%`) attaches the magic to the whole cell.\n",
    "\n",
    "Try some other magics, especially ones useful for dev and debugging: `%%time`, `%%prun`"
   ]
  },
  {
   "cell_type": "code",
   "execution_count": null,
   "metadata": {},
   "outputs": [],
   "source": [
    "%%time\n",
    "import time\n",
    "for i in range(3):\n",
    "    print('hello, world!')\n",
    "    time.sleep(1)"
   ]
  },
  {
   "cell_type": "code",
   "execution_count": null,
   "metadata": {},
   "outputs": [],
   "source": [
    "%whos"
   ]
  },
  {
   "cell_type": "markdown",
   "metadata": {
    "id": "Fkm3c-o9kUcl"
   },
   "source": [
    "## More variables, more types"
   ]
  },
  {
   "cell_type": "code",
   "execution_count": null,
   "metadata": {
    "id": "8GszT3kskUcl"
   },
   "outputs": [],
   "source": [
    "# examine the type of a literal or a variable\n",
    "type((1,2))"
   ]
  },
  {
   "cell_type": "code",
   "execution_count": null,
   "metadata": {},
   "outputs": [],
   "source": [
    "type(3)"
   ]
  },
  {
   "cell_type": "code",
   "execution_count": null,
   "metadata": {},
   "outputs": [],
   "source": [
    "type(3.)"
   ]
  },
  {
   "cell_type": "code",
   "execution_count": null,
   "metadata": {},
   "outputs": [],
   "source": [
    "type(x)"
   ]
  },
  {
   "cell_type": "code",
   "execution_count": null,
   "metadata": {},
   "outputs": [],
   "source": [
    "type('shakespeare')"
   ]
  },
  {
   "cell_type": "code",
   "execution_count": null,
   "metadata": {
    "id": "CjBpc-PmkUcm"
   },
   "outputs": [],
   "source": [
    "# a dictionary\n",
    "book_dict =  {\n",
    "    'author': ['Shakespeare', 'Morrison', 'Bolaño'],\n",
    "    'title': ['King Lear', 'Beloved', '2666'],\n",
    "    'year': [1606, 1987, 2004],\n",
    "    'words': [10000, 100000, 300000]\n",
    "}\n",
    "type(book_dict)"
   ]
  },
  {
   "cell_type": "code",
   "execution_count": null,
   "metadata": {
    "id": "9tno8IlvkUcm"
   },
   "outputs": [],
   "source": [
    "# retrieve dictionary content by key\n",
    "book_dict['author']"
   ]
  },
  {
   "cell_type": "markdown",
   "metadata": {
    "id": "pS85TLQlkUcn"
   },
   "source": [
    "Note that the line above returns a list. You can operate on `book_dict['author']` *as a list*. This tends to confuse people."
   ]
  },
  {
   "cell_type": "code",
   "execution_count": null,
   "metadata": {
    "id": "5Yv5klTekUcn"
   },
   "outputs": [],
   "source": [
    "# index into returned object\n",
    "book_dict['author'][1]"
   ]
  },
  {
   "cell_type": "markdown",
   "metadata": {
    "id": "QdMG46nlkUcn"
   },
   "source": [
    "Strings are indexable, too ..."
   ]
  },
  {
   "cell_type": "code",
   "execution_count": null,
   "metadata": {
    "id": "0XaSgMZykUcn"
   },
   "outputs": [],
   "source": [
    "book_dict['author'][1][2]"
   ]
  },
  {
   "cell_type": "code",
   "execution_count": null,
   "metadata": {
    "id": "DRDTKIl6kUcn"
   },
   "outputs": [],
   "source": [
    "%whos"
   ]
  },
  {
   "cell_type": "code",
   "execution_count": null,
   "metadata": {
    "id": "hW6nVkJ2kUco"
   },
   "outputs": [],
   "source": [
    "y = 5"
   ]
  },
  {
   "cell_type": "code",
   "execution_count": null,
   "metadata": {
    "id": "8V2qrOqdkUco"
   },
   "outputs": [],
   "source": [
    "%whos"
   ]
  },
  {
   "cell_type": "markdown",
   "metadata": {
    "id": "9PYgKJk8kUco"
   },
   "source": [
    "## What-ifs: cell order, division"
   ]
  },
  {
   "cell_type": "code",
   "execution_count": null,
   "metadata": {
    "id": "vWVvkOwLkUco"
   },
   "outputs": [],
   "source": [
    "# dynamic type conversion\n",
    "# ints -> float\n",
    "x/y"
   ]
  },
  {
   "cell_type": "code",
   "execution_count": null,
   "metadata": {
    "id": "Bldv0fjhkUco"
   },
   "outputs": [],
   "source": [
    "# integer division\n",
    "x//y"
   ]
  },
  {
   "cell_type": "code",
   "execution_count": null,
   "metadata": {
    "id": "1nGdvzz0kUco"
   },
   "outputs": [],
   "source": [
    "999//1000"
   ]
  },
  {
   "cell_type": "code",
   "execution_count": null,
   "metadata": {
    "id": "2Xe5oyBEkUco"
   },
   "outputs": [],
   "source": [
    "# modulo\n",
    "# returns the remainder following division\n",
    "999%500"
   ]
  },
  {
   "cell_type": "markdown",
   "metadata": {
    "id": "TbgbHtZykUco"
   },
   "source": [
    "Try running the **first** `%whos` cell again. What's the output?\n",
    "\n",
    "Note that you can execute code cells out of the order in which they are written. This will return the result of running that code *on the current contents of the environment*, not the environment as it existed (or would exist) had you run all the cells in order.\n",
    "\n",
    "Out-of-order cell execution is *really* convenient when you're developing your code. It lets you experiment and easily observe the effects of small changes. But it can also get you in trouble, because you might be operating on data (or using functions) that are inconsistent with what a straight read of the code would suggest. If you run into notably insoluable problems in your notebook, you might try selecting Kernel -> Restart Kernel and Run All Cells ... from the menu. This will guarantee that the machine state matches the visible order of execution."
   ]
  },
  {
   "cell_type": "markdown",
   "metadata": {
    "id": "fcr7uuAzkUcp"
   },
   "source": [
    "## Operating on lists"
   ]
  },
  {
   "cell_type": "code",
   "execution_count": null,
   "metadata": {
    "id": "rvhSjweKkUcp"
   },
   "outputs": [],
   "source": [
    "# Python lists can contain arbitrary types\n",
    "python_list_int = [1, 2, 3]\n",
    "python_list_mix = [1, 'g', (3.7, 2)]"
   ]
  },
  {
   "cell_type": "code",
   "execution_count": null,
   "metadata": {
    "id": "z3AjOK3ekUcp",
    "outputId": "e55529b6-8a0e-4a55-db23-bf88e0fb17f6"
   },
   "outputs": [],
   "source": [
    "# multiply a list by an int\n",
    "python_list_mix * 3"
   ]
  },
  {
   "cell_type": "code",
   "execution_count": null,
   "metadata": {
    "id": "SJtOARMxkUcp",
    "outputId": "b0601e7d-a48a-41c2-e4bb-c5f110af69e5"
   },
   "outputs": [],
   "source": [
    "# multiply a list by an int\n",
    "python_list_int * 3"
   ]
  },
  {
   "cell_type": "code",
   "execution_count": null,
   "metadata": {
    "id": "OANZ86JJkUcp",
    "outputId": "5157819c-a033-4e08-f9a7-7fab9067ea39"
   },
   "outputs": [],
   "source": [
    "# for loop\n",
    "result = []\n",
    "for i in python_list_int:\n",
    "    result.append(i*3)\n",
    "result"
   ]
  },
  {
   "cell_type": "markdown",
   "metadata": {
    "id": "ZhfEMQjZkUcq"
   },
   "source": [
    "A **list comprehension** is a neat one-liner to replace an explicit `for` loop."
   ]
  },
  {
   "cell_type": "code",
   "execution_count": null,
   "metadata": {
    "id": "pJAblJkRkUcq",
    "outputId": "5bd0893b-aa59-49d8-d23e-602d0cc6222d"
   },
   "outputs": [],
   "source": [
    "# list comprehension\n",
    "[i*3 for i in python_list_int]"
   ]
  },
  {
   "cell_type": "markdown",
   "metadata": {},
   "source": [
    "## NumPy\n",
    "\n",
    "NumPy (or numpy, because lazy) is a library for optimized mathematical operations in Python. We'll use it on occasion (it's fast and sometimes very convenient, especially for matrix operations), though we'll lean more heavily on Pandas (see below), which generally wraps Numpy in a lot of syntactic convenience."
   ]
  },
  {
   "cell_type": "code",
   "execution_count": null,
   "metadata": {
    "id": "texplIjTkUcq",
    "outputId": "3ab7a0bc-b0e4-40cd-a5b7-7d1d7df47787"
   },
   "outputs": [],
   "source": [
    "import numpy as np\n",
    "numpy_array = np.array([1, 2, 3])\n",
    "numpy_array"
   ]
  },
  {
   "cell_type": "code",
   "execution_count": null,
   "metadata": {
    "id": "U9jxaWDPkUcq",
    "outputId": "35a52972-a942-4046-c2d4-1bc86e50be72"
   },
   "outputs": [],
   "source": [
    "type(numpy_array)"
   ]
  },
  {
   "cell_type": "code",
   "execution_count": null,
   "metadata": {
    "id": "Sy3CrralkUcq",
    "outputId": "6788781e-de50-4cd2-cc09-cb99ac8d9667"
   },
   "outputs": [],
   "source": [
    "numpy_array[0]"
   ]
  },
  {
   "cell_type": "markdown",
   "metadata": {},
   "source": [
    "A Numpy array is similar to a list (ordered, iterable), but it's optimized for math. Numpy arrays are computable objects, on which we can perform *vectorized*, *broadcast* operations (one operation is performed on every element of the input array)."
   ]
  },
  {
   "cell_type": "code",
   "execution_count": null,
   "metadata": {
    "id": "JBlkjy_6kUcq",
    "outputId": "b8af8256-2a93-46f3-b3c7-189d8b15d348"
   },
   "outputs": [],
   "source": [
    "# array * int\n",
    "numpy_array * 1000000"
   ]
  },
  {
   "cell_type": "markdown",
   "metadata": {
    "id": "cN3L2IRRkUcq"
   },
   "source": [
    "Two important differences between numpy arrays and Python lists, from the [docs](https://numpy.org/doc/stable/user/whatisnumpy.html):\n",
    "\n",
    "> * NumPy arrays have a fixed size at creation, unlike Python lists (which can grow dynamically). **Changing the size of an ndarray will create a new array and delete the original.** \n",
    "    * [Note: This means that *appending* to numpy arrays is generally *very* slow. *Modifying* the elements of an array without changing its length is fast. You really want to preallocate your numpy arrays.]\n",
    "> * The elements in a NumPy array are all required to be of the same data type, and thus will be the same size in memory. The exception: one can have arrays of (Python, including NumPy) objects, thereby allowing for arrays of different sized elements."
   ]
  },
  {
   "cell_type": "markdown",
   "metadata": {
    "id": "9MromUa9kUcr"
   },
   "source": [
    "It would be nice to have the speed of numpy with an overlay of convenience. So ... Pandas!"
   ]
  },
  {
   "cell_type": "markdown",
   "metadata": {
    "id": "6r7YB3_1kUcr"
   },
   "source": [
    "You can pre-allocate a numpy array using `zeros`, `ones`, `empty`, or one of a few other numpy functions."
   ]
  },
  {
   "cell_type": "code",
   "execution_count": null,
   "metadata": {
    "id": "c8AL8mAfkUcr",
    "outputId": "913ac783-b436-44cc-90f6-e2b05e33b55b"
   },
   "outputs": [],
   "source": [
    "# allocate an array\n",
    "np.zeros(5)"
   ]
  },
  {
   "cell_type": "code",
   "execution_count": null,
   "metadata": {
    "id": "zZSEiHDjkUcr"
   },
   "outputs": [],
   "source": [
    "# allocate an array, then set an element to a value\n",
    "data_array = np.zeros(5)\n",
    "data_array[0] = 100\n",
    "data_array"
   ]
  }
 ],
 "metadata": {
  "colab": {
   "name": "02-10-code.ipynb",
   "provenance": []
  },
  "kernelspec": {
   "display_name": "Python 3 (ipykernel)",
   "language": "python",
   "name": "python3"
  },
  "language_info": {
   "codemirror_mode": {
    "name": "ipython",
    "version": 3
   },
   "file_extension": ".py",
   "mimetype": "text/x-python",
   "name": "python",
   "nbconvert_exporter": "python",
   "pygments_lexer": "ipython3",
   "version": "3.10.2"
  }
 },
 "nbformat": 4,
 "nbformat_minor": 4
}
