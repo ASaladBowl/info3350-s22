{
 "cells": [
  {
   "cell_type": "markdown",
   "metadata": {},
   "source": [
    "# INFO 3350/6350\n",
    "\n",
    "## Lecture 10: Discussion: Allison et al. and Mauch et al.\n",
    "\n",
    "## To do\n",
    "\n",
    "* HW 4 due Thursday, 11:59pm\n",
    "* Next week includes February break\n",
    "    * No lecture on Monday\n",
    "    * No in-person lecture on Wednesday\n",
    "        * Recording available by Monday night\n",
    "        * Watch before section on Friday\n",
    "    * Friday sections *do* meet\n",
    "    * Read HDA, ch. 6 for Wednesday\n",
    "    * No discussion readings or response posts\n",
    "\n",
    "## About the lab model\n",
    "\n",
    "A word about the Stanford Lit Lab, the pamphlets, and the idea of \"laboratory\" research in the humanities ...\n",
    "\n",
    "## Allison et al., \"Quantitative Formalism\"\n",
    "\n",
    "1. How would you describe the research area of the paper? In other words, what are the authors exploring?\n",
    "1. If you were interested in this problem, what kinds of approaches would you try? What features would you use? What corpus would you build?\n",
    "1. Does this piece use supervised or unsupervised methods? \n",
    "    1. Did the authors make the right call about the methods used?\n",
    "1. Computational methods seem to have landed on different features than those that humans use to differentiate genres. What do you make of this?\n",
    "    1. How could the methods be modified to capture aspects of human judgment about genre differences?\n",
    "1. Several people noted that generic differences and historical differences are not cleanly separable. How might we assess the effects of shifting historical baselines on other aspects of textual difference?\n",
    "\n",
    "## Mauch et al., \"The Evolution of Popular Music\"\n",
    "\n",
    "1. **Describe the corpus** with which the researchers are working. That is, what is their input data? \n",
    "    * How does this dataset relate to the social question they want to answer?\n",
    "    * Is the fit between question and data a good one?\n",
    "1. How do you explain the study's finding that popular music changed with the arrival of hip-hop in ... 1991? Doesn't the **historical timing** seem a little off?\n",
    "1. To what extent are the paper's methods **supervised or unsupervised**? \n",
    "    * Why have the authors adopted the approach they have?\n",
    "    * Can you imagine a version of the experiment that would make heavier use of the opposite class of methods?\n",
    "1. If you were interested in studying the evolution of music **today and in the future**, how (if at all) would you want to modify the corpus or methods used here?"
   ]
  },
  {
   "cell_type": "code",
   "execution_count": null,
   "metadata": {},
   "outputs": [],
   "source": []
  }
 ],
 "metadata": {
  "kernelspec": {
   "display_name": "Python 3 (ipykernel)",
   "language": "python",
   "name": "python3"
  },
  "language_info": {
   "codemirror_mode": {
    "name": "ipython",
    "version": 3
   },
   "file_extension": ".py",
   "mimetype": "text/x-python",
   "name": "python",
   "nbconvert_exporter": "python",
   "pygments_lexer": "ipython3",
   "version": "3.10.2"
  }
 },
 "nbformat": 4,
 "nbformat_minor": 4
}
