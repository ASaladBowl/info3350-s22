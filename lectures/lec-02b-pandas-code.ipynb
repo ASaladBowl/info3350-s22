{
 "cells": [
  {
   "cell_type": "markdown",
   "metadata": {},
   "source": [
    "# INFO 3350/6350\n",
    "\n",
    "## Lecture 02(b): Pandas"
   ]
  },
  {
   "cell_type": "markdown",
   "metadata": {},
   "source": [
    "Pandas is the general-purpose data library for Python. Its most important data type is the `DataFrame`. DataFrames are two-dimensional arrays of arbitrary types that have a bunch of convenient indexing, slicing, and mathematical manipulation functions. \n",
    "\n",
    "There's a sense in which pandas is a combination of python dictionaries (fast, convenient indexing and lookups) with numpy arrays (fast math). But don't overthink it. We're pandas users, not pandas developers.\n",
    "\n",
    "A little more simply, a typical DataFrame looks like this:"
   ]
  },
  {
   "cell_type": "code",
   "execution_count": null,
   "metadata": {},
   "outputs": [],
   "source": [
    "import pandas as pd\n",
    "\n",
    "book_dict =  {\n",
    "    'author': ['Shakespeare', 'Morrison', 'Bolaño'],\n",
    "    'title': ['King Lear', 'Beloved', '2666'],\n",
    "    'year': [1606, 1987, 2004],\n",
    "    'words': [10000, 100000, 300000]\n",
    "}\n",
    "\n",
    "book_df = pd.DataFrame(book_dict) # <- note that we're using the dict defined above\n",
    "book_df"
   ]
  },
  {
   "cell_type": "markdown",
   "metadata": {},
   "source": [
    "Notice that this DataFrame consists of **rows** and **columns**. It might remind you of a spreadsheet or a database table.\n",
    "\n",
    "You can think of a **row** as a **record** or an **observation**. It contains all the information about an *individual object*.\n",
    "\n",
    "A **column** contains the data about a **single feature** for **all objects** in the DataFrame.\n",
    "\n",
    "Our DataFrame has three rows (books) and four columns (features of those books).\n",
    "\n",
    "Note the special pseudo-column at the left, the **index**."
   ]
  },
  {
   "cell_type": "code",
   "execution_count": null,
   "metadata": {},
   "outputs": [],
   "source": [
    "# columns have types\n",
    "book_df.dtypes"
   ]
  },
  {
   "cell_type": "code",
   "execution_count": null,
   "metadata": {},
   "outputs": [],
   "source": [
    "# more info about our dataframe\n",
    "book_df.info()"
   ]
  },
  {
   "cell_type": "code",
   "execution_count": null,
   "metadata": {},
   "outputs": [],
   "source": [
    "# select a column, return a series\n",
    "book_df['author']"
   ]
  },
  {
   "cell_type": "markdown",
   "metadata": {},
   "source": [
    "Think of this like a Python dictionary, where columns are keyed by name.\n",
    "\n",
    "A Series is similar to a DataFrame, but has strictly one dimension. This is sometimes convenient, but is also sometimes the source of subtle bugs. When in doubt, select Pandas columns using **two** sets of square brackets, which returns a DataFrame, even if there's only one column in it.\n",
    "\n",
    "Let's **do** something with a column:"
   ]
  },
  {
   "cell_type": "code",
   "execution_count": null,
   "metadata": {},
   "outputs": [],
   "source": [
    "# column-wise (vectorized) operations\n",
    "book_df[['year']]+100"
   ]
  },
  {
   "cell_type": "markdown",
   "metadata": {},
   "source": [
    "We **didn't** need to iterate over the elements in the column. The mathematical operation was applied automatically to very element. These kinds of vectorized operations are often much faster than loops. We'll try to use them whenever we can.\n",
    "\n",
    "The above code returned a DataFrame. If we had left one of the sets of square brackets out, we would have returned a Pandas Series:"
   ]
  },
  {
   "cell_type": "code",
   "execution_count": null,
   "metadata": {},
   "outputs": [],
   "source": [
    "# return a series, not a frame\n",
    "book_df['year']+100"
   ]
  },
  {
   "cell_type": "code",
   "execution_count": null,
   "metadata": {},
   "outputs": [],
   "source": [
    "# did we modify the underlying dataframe?\n",
    "book_df"
   ]
  },
  {
   "cell_type": "code",
   "execution_count": null,
   "metadata": {},
   "outputs": [],
   "source": [
    "# indexing\n",
    "new_df = book_df.loc[1:2, ['year', 'title']]\n",
    "new_df"
   ]
  },
  {
   "cell_type": "markdown",
   "metadata": {},
   "source": [
    "The general form here is `.loc[row_indexer, column_indexer]`. We'll have more to say about this in a minute. Here, notice that the row indexer is operating on labels, **not index positions**, and that it is inclusive. To index by positions, use `.iloc` (which behaves like regular python indexing, hence does not include the terminal value).\n",
    "\n",
    "We can also manipulate the index, which isn't a column like the others."
   ]
  },
  {
   "cell_type": "code",
   "execution_count": null,
   "metadata": {},
   "outputs": [],
   "source": [
    "# set an existing column to be the index\n",
    "book_df.set_index(['author'], inplace=True)\n",
    "book_df"
   ]
  },
  {
   "cell_type": "code",
   "execution_count": null,
   "metadata": {},
   "outputs": [],
   "source": [
    "# select using the new index\n",
    "book_df.loc['Morrison', 'title']"
   ]
  },
  {
   "cell_type": "code",
   "execution_count": null,
   "metadata": {},
   "outputs": [],
   "source": [
    "book_df['title']"
   ]
  },
  {
   "cell_type": "code",
   "execution_count": null,
   "metadata": {},
   "outputs": [],
   "source": [
    "# pandas tries to infer what you meant, but can fail\n",
    "# when in doubt, be explicit\n",
    "# here, get all indices (rows) and just the 'title' column\n",
    "book_df.loc[:,['title']]"
   ]
  },
  {
   "cell_type": "code",
   "execution_count": null,
   "metadata": {},
   "outputs": [],
   "source": [
    "book_df"
   ]
  },
  {
   "cell_type": "code",
   "execution_count": null,
   "metadata": {},
   "outputs": [],
   "source": [
    "# modify the underlying dataframe\n",
    "book_df['year'] = book_df['year']+100\n",
    "book_df"
   ]
  },
  {
   "cell_type": "code",
   "execution_count": null,
   "metadata": {},
   "outputs": [],
   "source": [
    "# create a new column based on an existing one\n",
    "book_df['old_year'] = book_df['year']-100\n",
    "book_df"
   ]
  },
  {
   "cell_type": "code",
   "execution_count": null,
   "metadata": {},
   "outputs": [],
   "source": [
    "# you can call the index itself\n",
    "book_df.index"
   ]
  },
  {
   "cell_type": "code",
   "execution_count": null,
   "metadata": {},
   "outputs": [],
   "source": [
    "# but you can't select an index by name\n",
    "book_df[['author']]"
   ]
  },
  {
   "cell_type": "code",
   "execution_count": null,
   "metadata": {},
   "outputs": [],
   "source": [
    "# for reference, can get values of a named index\n",
    "book_df.index.get_level_values('author')"
   ]
  },
  {
   "cell_type": "markdown",
   "metadata": {},
   "source": [
    "## Indexing, slicing, and setting values\n",
    "\n",
    "Dataframes are valuable mostly because they make it easy to select and group data. Let's take a look at how this works."
   ]
  },
  {
   "cell_type": "code",
   "execution_count": null,
   "metadata": {},
   "outputs": [],
   "source": [
    "d = {\n",
    "    'a':[1,2,3],\n",
    "    'b':[4,5,6]\n",
    "}\n",
    "df = pd.DataFrame(d)\n",
    "df"
   ]
  },
  {
   "cell_type": "code",
   "execution_count": null,
   "metadata": {},
   "outputs": [],
   "source": [
    "# Add a column\n",
    "df['c'] = [True, True, False] # a boolean column"
   ]
  },
  {
   "cell_type": "code",
   "execution_count": null,
   "metadata": {},
   "outputs": [],
   "source": [
    "df"
   ]
  },
  {
   "cell_type": "code",
   "execution_count": null,
   "metadata": {},
   "outputs": [],
   "source": [
    "# get the value at row 0, column b\n",
    "df.loc[0,'b'] # format is row label, column label"
   ]
  },
  {
   "cell_type": "code",
   "execution_count": null,
   "metadata": {},
   "outputs": [],
   "source": [
    "# alternatively, when we want a SINGLE value only\n",
    "df.at[0, 'b']"
   ]
  },
  {
   "cell_type": "code",
   "execution_count": null,
   "metadata": {},
   "outputs": [],
   "source": [
    "# Make the index confusing\n",
    "df.index = [5,18,3]\n",
    "df"
   ]
  },
  {
   "cell_type": "code",
   "execution_count": null,
   "metadata": {},
   "outputs": [],
   "source": [
    "# Indices are labels, NOT positions!\n",
    "df.loc[18:3]"
   ]
  },
  {
   "cell_type": "code",
   "execution_count": null,
   "metadata": {},
   "outputs": [],
   "source": [
    "# Select by index position\n",
    "df.iloc[[1]]"
   ]
  },
  {
   "cell_type": "code",
   "execution_count": null,
   "metadata": {},
   "outputs": [],
   "source": [
    "# Select using boolean array\n",
    "df.loc[[True, True, False]]"
   ]
  },
  {
   "cell_type": "code",
   "execution_count": null,
   "metadata": {},
   "outputs": [],
   "source": [
    "# did not modify df\n",
    "df"
   ]
  },
  {
   "cell_type": "markdown",
   "metadata": {},
   "source": [
    "Selections are (usually) **views** into the existing dataframe. They do not (usually) create new dataframes. This is good and efficient, but can sometimes be tricky ..."
   ]
  },
  {
   "cell_type": "markdown",
   "metadata": {},
   "source": [
    "### Set value on copy of slice warning\n",
    "\n",
    "As we just saw, you can select rows using `.loc`. It's tempting to then select columns from the resulting subset of rows. This is called chained indexing. There's nothing inherently wrong with chaining, but it can be the source of downstream problems. To wit:\n",
    "\n",
    "#### The wrong way!"
   ]
  },
  {
   "cell_type": "code",
   "execution_count": null,
   "metadata": {},
   "outputs": [],
   "source": [
    "# Select rows ...\n",
    "subset = df[ df['b']<=5 ]\n",
    "subset"
   ]
  },
  {
   "cell_type": "code",
   "execution_count": null,
   "metadata": {},
   "outputs": [],
   "source": [
    "# How does this work?\n",
    "df['b'] <= 5"
   ]
  },
  {
   "cell_type": "markdown",
   "metadata": {},
   "source": [
    "So, we pass a boolean array in as a row selector, then ..."
   ]
  },
  {
   "cell_type": "code",
   "execution_count": null,
   "metadata": {},
   "outputs": [],
   "source": [
    "# Then select columns from the subset and try to modify their values\n",
    "subset['c'] = False"
   ]
  },
  {
   "cell_type": "markdown",
   "metadata": {},
   "source": [
    "Why does this happen? Why throw a warning here?"
   ]
  },
  {
   "cell_type": "code",
   "execution_count": null,
   "metadata": {},
   "outputs": [],
   "source": [
    "# What was the output?\n",
    "display(subset) # FYI, note use of display() IPython function"
   ]
  },
  {
   "cell_type": "code",
   "execution_count": null,
   "metadata": {},
   "outputs": [],
   "source": [
    "# Compare the original dataframe\n",
    "df"
   ]
  },
  {
   "cell_type": "markdown",
   "metadata": {},
   "source": [
    "Eep! This **did not** modify the original dataframe. Did we want it to? Pandas doesn't know, and the outcome is unpredictable (it depends on certain low-level memory layout features that Pandas doesn't control). Hence, the warning."
   ]
  },
  {
   "cell_type": "markdown",
   "metadata": {},
   "source": [
    "#### The correct way\n",
    "\n",
    "Be explicit using `loc` and do it in a single operation!"
   ]
  },
  {
   "cell_type": "code",
   "execution_count": null,
   "metadata": {},
   "outputs": [],
   "source": [
    "# From the warning: \"Try using .loc[row_indexer,col_indexer] = value instead\"\n",
    "df.loc[ df['b']<=5, 'c' ] = False\n",
    "df"
   ]
  },
  {
   "cell_type": "code",
   "execution_count": null,
   "metadata": {},
   "outputs": [],
   "source": [
    "# or we can use explicit .copy()\n",
    "subset = subset.copy() # <- copy the data, so it's disassociated from the source df\n",
    "display(subset)\n",
    "subset['c'] = True\n",
    "display(subset)"
   ]
  },
  {
   "cell_type": "markdown",
   "metadata": {},
   "source": [
    "`.copy()`ing can be slow when you have a lot of data. Use with care."
   ]
  },
  {
   "cell_type": "markdown",
   "metadata": {},
   "source": [
    "## Working with real data\n",
    "\n",
    "An example using COVID data from Tompkins County.\n",
    "\n",
    "Note that **you** can use Sheets to share data for your group. Pull directly to Pandas as CSV over the web by inserting `/export?format=csv` between the document identifier and any `&gid=` sheet identifier in the URL. Unrestricted link sharing must be turned on.\n",
    "\n",
    "For example:\n",
    "\n",
    "```\n",
    "https://docs.google.com/spreadsheets/d/1_EYNs90DIWYg9huCiRlw4H2FqofIhDutburi9RrUMYY/edit?usp=sharing\n",
    "                                                                                    ^^^^^^^^^^^^^^^^\n",
    "```\n",
    "\n",
    "... becomes ...\n",
    "\n",
    "```\n",
    "https://docs.google.com/spreadsheets/d/1_EYNs90DIWYg9huCiRlw4H2FqofIhDutburi9RrUMYY/export?format=csv\n",
    "                                                                                    ^^^^^^^^^^^^^^^^^\n",
    "```\n",
    "\n",
    "Or, you can use Google's [Python API library](https://developers.google.com/sheets/api/quickstart/python) for authenticated access (but it's probably overkill).\n",
    "\n",
    "### Data prep\n",
    "\n",
    "Read the [awkwardly formatted data table](https://docs.google.com/spreadsheets/d/e/2PACX-1vQvvugFsb4GePXQnmEZbgrtqmJRiaA7tO1UGSBwvBdhbJEmf2ntzE0am-x-Lo6mLPj9ASLpAg6UZsCF/pubhtml?gid=1214476126&single=true) over the web. Take a look at this and discuss what you expect on import (problems, data types, dataframe length and shape, etc.)."
   ]
  },
  {
   "cell_type": "code",
   "execution_count": null,
   "metadata": {},
   "outputs": [],
   "source": [
    "# Get data from TCHD's Google sheet\n",
    "sheet = 'https://docs.google.com/spreadsheets/d/e/2PACX-1vQvvugFsb4GePXQnmEZbgrtqmJRiaA7tO1UGSBwvBdhbJEmf2ntzE0am-x-Lo6mLPj9ASLpAg6UZsCF/pubhtml?gid=1214476126&single=true'\n",
    "fetched_data = pd.read_html(sheet, skiprows=1)\n",
    "covid = fetched_data[0]\n",
    "covid.head()"
   ]
  },
  {
   "cell_type": "code",
   "execution_count": null,
   "metadata": {},
   "outputs": [],
   "source": [
    "# working with .columns\n",
    "print(covid.columns)"
   ]
  },
  {
   "cell_type": "code",
   "execution_count": null,
   "metadata": {},
   "outputs": [],
   "source": [
    "# get rid of undesired data\n",
    "columns_to_retain = list(covid.columns)[1:] # discard first column\n",
    "#columns_to_retain.pop()                     # discard last column\n",
    "covid = covid.loc[1:, columns_to_retain]   # discard empty first row\n",
    "covid.head()"
   ]
  },
  {
   "cell_type": "code",
   "execution_count": null,
   "metadata": {},
   "outputs": [],
   "source": [
    "# Write out the good data to disk for later reuse\n",
    "covid.to_csv('lec-02-tompkins-covid-data.csv', index=False)"
   ]
  },
  {
   "cell_type": "markdown",
   "metadata": {},
   "source": [
    "### Read in cleaned data\n",
    "\n",
    "First, examine the pure CSV using a text editor, then come back here."
   ]
  },
  {
   "cell_type": "code",
   "execution_count": null,
   "metadata": {},
   "outputs": [],
   "source": [
    "covid = pd.read_csv('lec-02-tompkins-covid-data.csv')\n",
    "covid.head()"
   ]
  },
  {
   "cell_type": "markdown",
   "metadata": {},
   "source": [
    "What is `NaN`?"
   ]
  },
  {
   "cell_type": "markdown",
   "metadata": {},
   "source": [
    "### Change a column name"
   ]
  },
  {
   "cell_type": "code",
   "execution_count": null,
   "metadata": {},
   "outputs": [],
   "source": [
    "# option 1\n",
    "col_names = list(covid.columns)\n",
    "col_names[6] = 'active_cases'\n",
    "covid.columns = col_names\n",
    "covid.head()"
   ]
  },
  {
   "cell_type": "code",
   "execution_count": null,
   "metadata": {},
   "outputs": [],
   "source": [
    "# option 2\n",
    "covid.rename(columns={'Active COVID-19 Hospitalizations (CHS)':'active_hospitalizations'}, inplace=True)\n",
    "covid.head()"
   ]
  },
  {
   "cell_type": "markdown",
   "metadata": {},
   "source": [
    "### Explore the data"
   ]
  },
  {
   "cell_type": "code",
   "execution_count": null,
   "metadata": {},
   "outputs": [],
   "source": [
    "# types\n",
    "covid.dtypes"
   ]
  },
  {
   "cell_type": "markdown",
   "metadata": {},
   "source": [
    "Why these data types? (Compare input data from sheet ...)"
   ]
  },
  {
   "cell_type": "code",
   "execution_count": null,
   "metadata": {},
   "outputs": [],
   "source": [
    "# table size\n",
    "covid.shape"
   ]
  },
  {
   "cell_type": "code",
   "execution_count": null,
   "metadata": {},
   "outputs": [],
   "source": [
    "# just table length\n",
    "len(covid)"
   ]
  },
  {
   "cell_type": "code",
   "execution_count": null,
   "metadata": {},
   "outputs": [],
   "source": [
    "# get descriptive stats\n",
    "covid.describe()"
   ]
  },
  {
   "cell_type": "markdown",
   "metadata": {},
   "source": [
    "### Change column types"
   ]
  },
  {
   "cell_type": "code",
   "execution_count": null,
   "metadata": {},
   "outputs": [],
   "source": [
    "# 'Date' column has type 'object' (often used for strings)\n",
    "covid['Date'].dtype"
   ]
  },
  {
   "cell_type": "code",
   "execution_count": null,
   "metadata": {},
   "outputs": [],
   "source": [
    "# take one example date entry - it's a string\n",
    "type(covid.at[0, 'Date'])"
   ]
  },
  {
   "cell_type": "code",
   "execution_count": null,
   "metadata": {},
   "outputs": [],
   "source": [
    "# convert Date column to datetime type\n",
    "covid['Date'] = pd.to_datetime(covid['Date'])\n",
    "covid[['Date']].head()"
   ]
  },
  {
   "cell_type": "code",
   "execution_count": null,
   "metadata": {},
   "outputs": [],
   "source": [
    "covid['Date'].dtype"
   ]
  },
  {
   "cell_type": "code",
   "execution_count": null,
   "metadata": {},
   "outputs": [],
   "source": [
    "# take one example date entry - it's now a Timestamp\n",
    "type(covid.at[0, 'Date'])"
   ]
  },
  {
   "cell_type": "markdown",
   "metadata": {},
   "source": [
    "Datetime objects are useful because we can do convenient selection, sampling, and slicing with them. More about this next time ..."
   ]
  },
  {
   "cell_type": "code",
   "execution_count": null,
   "metadata": {},
   "outputs": [],
   "source": [
    "# plot directly from Pandas\n",
    "covid[['Date', 'active_cases']].set_index(['Date']).plot();"
   ]
  },
  {
   "cell_type": "code",
   "execution_count": null,
   "metadata": {},
   "outputs": [],
   "source": []
  }
 ],
 "metadata": {
  "kernelspec": {
   "display_name": "Python 3 (ipykernel)",
   "language": "python",
   "name": "python3"
  },
  "language_info": {
   "codemirror_mode": {
    "name": "ipython",
    "version": 3
   },
   "file_extension": ".py",
   "mimetype": "text/x-python",
   "name": "python",
   "nbconvert_exporter": "python",
   "pygments_lexer": "ipython3",
   "version": "3.10.2"
  }
 },
 "nbformat": 4,
 "nbformat_minor": 4
}
