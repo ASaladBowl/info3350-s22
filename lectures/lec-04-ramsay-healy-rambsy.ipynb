{
 "cells": [
  {
   "cell_type": "markdown",
   "id": "29755c07-7996-4504-bfa0-4a23063331c5",
   "metadata": {},
   "source": [
    "# INFO 3350/6350\n",
    "\n",
    "## Lecture 04: Discuss humanities disciplines in Ramsay, Healy, and Rambsy\n",
    "\n",
    "## To do\n",
    "\n",
    "* In-person meetings next week (Olin Hall 245. *NB. Not the library*)\n",
    "    * See schedule for M/W readings\n",
    "    * No camera or audio recording setup in classroom, so only code available online. \n",
    "* HW1 due via CMS by Thursday night (11:59pm)\n",
    "* Finish lecture 3 material on tokenization and word counts"
   ]
  },
  {
   "cell_type": "markdown",
   "id": "8c48e7a3-4238-441c-870e-435eda5f7d7c",
   "metadata": {},
   "source": [
    "## Discussion\n",
    "\n",
    "### Intro\n",
    "\n",
    "The readings for this week represent our first step toward understanding how computation and the humanities fit together, and why these fields are sometimes seen as existing in tension with one another.\n",
    "\n",
    "Ramsay and Healy's articles are disciplinary *reflections*. They make an argument about how an academic discipline should approach its task.\n",
    "\n",
    "Rambsy's article/exhibit is a disciplinary *product*. It produces new knowlede within a discipline. But it also has a disciplinary-methodological argument.\n",
    "\n",
    "### General questions\n",
    "\n",
    "We're going to use breakout rooms (for the only time this semester, fingers crossed) to start our discussion.\n",
    "\n",
    "Take five minutes to discuss with your group the following questions (Q1 and Q2) about your own experiences in humanities classes. When we reconvene, I'll ask a couple of groups to report on their discussion, so be sure to designate at least one person who will be ready to speak if your group is called upon. Oh, and remember your breakout room number, which is how I'll identify the groups.\n",
    "\n",
    "#### Q1\n",
    "* Think about the humanities classes you've taken (English, history, modern languages, philosophy, art history, cultural studies, and so on). \n",
    "    * What did you do, day to day, in these classes? \n",
    "    * Why do you think you did those things, rather than other things?\n",
    "    * How did the things you did in your humanities classes differ (or not) from what you have done in your other classes?\n",
    "    \n",
    "#### Q2 \n",
    "\n",
    "This one is big and tricky and doesn't have any single correct answer:\n",
    "\n",
    "* Given your answers to Q1, what do you think the humanities are for? \n",
    "    * What do they try to do? \n",
    "    * How do they try to do it?\n",
    "    * Are their goals different from the goals of the sciences?\n",
    "\n",
    "### Reading-specific questions\n",
    "\n",
    "We'll start on these if we have time, and carry them into section on Friday:\n",
    "\n",
    "#### Steve Ramsay, \"Toward an algorithmic criticism\"\n",
    "\n",
    "* Consider p. 173: \n",
    "> \"Empirical  validation  and  hypothesis  testing simply make no sense in a discourse where the object is not to be right (in the sense that a biologist is ever 'right'), but to be interesting (in the sense that a great philosopher is 'interesting').\"\n",
    "    * How do you understand the difference between \"right\" and \"interesting\"?\n",
    "* How does Ramsay describe the purpose of \"mainstream\" literary criticism and how does he distinguish criticism from science?\n",
    "    * Does this match your experience of literature and science classes you've taken?\n",
    "* What roles does Ramsay imagine computation might play in the critical process?\n",
    "\n",
    "#### Kieran Healy, \"Fuck nuance\"\n",
    "\n",
    "* What does Healy mean by \"Actually Existing Nuance\" and why does he oppose it?\n",
    "* Have you encountered any of Healy's \"nuance traps\" (the fine-grain, the conceptual framework, and the connoisseur) in classes or in research work?\n",
    "  * Why are these traps a problem?\n",
    "  \n",
    "#### Kenton Rambsy, *#TheJayZMixtape*\n",
    "\n",
    "* Did you enjoy Rambsy's work? Did it surprise you, or was it similar to other critical studies you've encountered?\n",
    "* What do you see as Rambsy's argument about how literary studies should work or what the discipline is for?\n",
    "  * What, if any, changes does he advocate?\n",
    "* Is Rambsy's work related to what Ramsay called \"deformance\"?\n",
    "* Rambsy goes far with some relatively simple quantitative methods. \n",
    "  * Any conclusions we can draw from that fact for our own work?\n",
    "  * Are there other things one might like to do with his data?"
   ]
  },
  {
   "cell_type": "code",
   "execution_count": null,
   "id": "8a3d0719-c2c7-496c-9195-0e11bfc9453d",
   "metadata": {},
   "outputs": [],
   "source": []
  }
 ],
 "metadata": {
  "kernelspec": {
   "display_name": "Python 3 (ipykernel)",
   "language": "python",
   "name": "python3"
  },
  "language_info": {
   "codemirror_mode": {
    "name": "ipython",
    "version": 3
   },
   "file_extension": ".py",
   "mimetype": "text/x-python",
   "name": "python",
   "nbconvert_exporter": "python",
   "pygments_lexer": "ipython3",
   "version": "3.10.2"
  }
 },
 "nbformat": 4,
 "nbformat_minor": 5
}
