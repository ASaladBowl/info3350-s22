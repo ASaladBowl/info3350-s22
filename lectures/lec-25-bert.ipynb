{
 "cells": [
  {
   "cell_type": "markdown",
   "id": "fd59d948-b7c8-48b3-970a-e08852073067",
   "metadata": {},
   "source": [
    "# INFO 3350/6350\n",
    "## Lecture 25: BERT\n",
    "\n",
    "**April 27**\n",
    "\n",
    "Use the following links to access today's materials:  \n",
    "* [Slides](https://docs.google.com/presentation/d/1eGW-_6dpWzX4nrGAWTVnU20Mec2gP2kuYpPnySV2HFI/edit?usp=sharing)  \n",
    "* [Code](https://colab.research.google.com/drive/1qwY-Fi_fN4y_RxG1E1fXMJqUx9yaG0CJ?usp=sharing)  \n"
   ]
  },
  {
   "cell_type": "markdown",
   "id": "5efb1436-1ee6-44ea-bd5f-37f84d80a23c",
   "metadata": {},
   "source": [
    "More BERT resources:\n",
    "* [BERT for Humanists](http://www.bertforhumanists.org/)\n",
    "* [BERT: Pre-training of Deep Bidirectional Transformers for Language Understanding by Jacob Devlin, Ming-Wei Chang, Kenton Lee, and Kristina Toutanova](https://arxiv.org/abs/1810.04805)\n",
    "* [A Visual Guide to Using BERT for the First Time by Jay Alammar](https://jalammar.github.io/a-visual-guide-to-using-bert-for-the-first-time/)\n",
    "* [Illustrated BERT by Jay Alammar](https://jalammar.github.io/illustrated-bert/)\n",
    "* [HuggingFace](https://huggingface.co/)\n",
    "* [Fine-tuning with custom datasets by HuggingFace](https://huggingface.co/transformers/custom_datasets.html)"
   ]
  }
 ],
 "metadata": {
  "kernelspec": {
   "display_name": "Python 3",
   "language": "python",
   "name": "python3"
  },
  "language_info": {
   "codemirror_mode": {
    "name": "ipython",
    "version": 3
   },
   "file_extension": ".py",
   "mimetype": "text/x-python",
   "name": "python",
   "nbconvert_exporter": "python",
   "pygments_lexer": "ipython3",
   "version": "3.8.12"
  }
 },
 "nbformat": 4,
 "nbformat_minor": 5
}
